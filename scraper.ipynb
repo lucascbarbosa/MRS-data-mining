{
 "cells": [
  {
   "cell_type": "code",
   "execution_count": 2,
   "source": [
    "import bs4\r\n",
    "from bs4 import BeautifulSoup\r\n",
    "import urllib.request\r\n",
    "import pandas as pd\r\n",
    "from PyPDF2 import PdfFileWriter, PdfFileReader\r\n",
    "from io import StringIO"
   ],
   "outputs": [],
   "metadata": {}
  },
  {
   "cell_type": "code",
   "execution_count": 25,
   "source": [
    "with open('data.html','r',encoding='utf-8') as f:\r\n",
    "    html = f.read()\r\n",
    "\r\n",
    "soup = BeautifulSoup(html, 'html.parser')"
   ],
   "outputs": [],
   "metadata": {}
  },
  {
   "cell_type": "code",
   "execution_count": 112,
   "source": [
    "pdf_url ='https://www.eventweb.com.br/xixsbpmat-virtual/on-site/pdf/viewer.html?file=../../../specific-files/manuscripts/xixsbpmat-virtual/'\r\n",
    "artigos = soup.find_all('span',{'class':'font-weight-bold'})\r\n",
    "df = pd.DataFrame(columns='Titulo Secao Url'.split())\r\n",
    "\r\n",
    "titulos = []\r\n",
    "secoes  = []\r\n",
    "urls = []\r\n",
    "\r\n",
    "for i in range(len(artigos)):\r\n",
    "    artigo = artigos[i] \r\n",
    "    text = str(artigo.text).strip()\r\n",
    "    try:\r\n",
    "        titulo = text.split('\\n')[0]\r\n",
    "        secao = text.split('\\n')[1]\r\n",
    "        titulos.append(titulo)\r\n",
    "        secoes.append(secao)\r\n",
    "        code = artigo.find_all('a')[0].get('href').split('/')[-1]\r\n",
    "        url = pdf_url + code\r\n",
    "        urls.append(url)\r\n",
    "    except:\r\n",
    "        pass\r\n",
    "    \r\n",
    "    \r\n",
    "df['Titulo'] = titulos\r\n",
    "df['Secao'] = secoes\r\n",
    "df['Url'] = urls\r\n",
    "\r\n",
    "df = df.sort_values(by='Secao')[4:]\r\n",
    "df.to_csv('Artigos XIX MRS.csv',index=False,header=True)\r\n",
    "df.to_excel('Artigos XIX MRS.xlsx',index=False,header=True)"
   ],
   "outputs": [],
   "metadata": {}
  },
  {
   "cell_type": "code",
   "execution_count": null,
   "source": [],
   "outputs": [],
   "metadata": {}
  }
 ],
 "metadata": {
  "kernelspec": {
   "name": "python3",
   "display_name": "Python 3.6.13 64-bit ('deeplearn': conda)"
  },
  "language_info": {
   "codemirror_mode": {
    "name": "ipython",
    "version": 3
   },
   "file_extension": ".py",
   "mimetype": "text/x-python",
   "name": "python",
   "nbconvert_exporter": "python",
   "pygments_lexer": "ipython3",
   "version": "3.6.13"
  },
  "interpreter": {
   "hash": "e015e1639836c9a49ee3586496c0fb007565c7f3a4b1a4b2dfc2182147d167c4"
  }
 },
 "nbformat": 4,
 "nbformat_minor": 5
}