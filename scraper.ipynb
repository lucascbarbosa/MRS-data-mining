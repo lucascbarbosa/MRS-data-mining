{
 "cells": [
  {
   "cell_type": "code",
   "execution_count": 2,
   "source": [
    "import bs4\r\n",
    "from bs4 import BeautifulSoup\r\n",
    "import urllib.request\r\n",
    "import pandas as pd\r\n",
    "from PyPDF2 import PdfFileWriter, PdfFileReader\r\n",
    "from io import StringIO"
   ],
   "outputs": [],
   "metadata": {}
  },
  {
   "cell_type": "code",
   "execution_count": 4,
   "source": [
    "with open('data.html','r',encoding='utf-8') as f:\r\n",
    "    html = f.read()\r\n",
    "\r\n",
    "soup = BeautifulSoup(html, 'html.parser')"
   ],
   "outputs": [],
   "metadata": {}
  },
  {
   "cell_type": "code",
   "execution_count": 16,
   "source": [
    "pdf_url ='https://www.eventweb.com.br/xixsbpmat-virtual/on-site/pdf/viewer.html?file=../../../specific-files/manuscripts/xixsbpmat-virtual/'\r\n",
    "artigos = soup.find_all('span',{'class':'font-weight-bold'})\r\n",
    "autores = soup.find_all('i')\r\n",
    "df = pd.DataFrame(columns='Titulo Secao Autor(es) Url'.split())\r\n",
    "\r\n",
    "titulos = []\r\n",
    "secoes  = []\r\n",
    "autores_ = []\r\n",
    "urls = []\r\n",
    "\r\n",
    "for i in range(len(artigos)):\r\n",
    "    artigo = artigos[i] \r\n",
    "    text = str(artigo.text).strip()\r\n",
    "    try:\r\n",
    "        titulo = text.split('\\n')[0]\r\n",
    "        secao = text.split('\\n')[1]\r\n",
    "        autor = autores[i].text\r\n",
    "        code = artigo.find_all('a')[0].get('href').split('/')[-1]\r\n",
    "        url = pdf_url + code\r\n",
    "        \r\n",
    "        titulos.append(titulo)\r\n",
    "        secoes.append(secao)\r\n",
    "        autores_.append(autor)\r\n",
    "        urls.append(url)\r\n",
    "    except:\r\n",
    "        pass\r\n",
    "    \r\n",
    "    \r\n",
    "df['Titulo'] = titulos\r\n",
    "df['Secao'] = secoes\r\n",
    "df['Autor(es)'] = autores_\r\n",
    "df['Url'] = urls\r\n",
    "\r\n",
    "df = df.sort_values(by='Secao')[4:]\r\n",
    "# df.to_csv('Artigos XIX MRS.csv',index=False,header=True,sep='\\t')\r\n",
    "df.to_excel('Artigos XIX MRS.xlsx',index=False,header=True)"
   ],
   "outputs": [],
   "metadata": {}
  },
  {
   "cell_type": "code",
   "execution_count": 7,
   "source": [],
   "outputs": [
    {
     "output_type": "error",
     "ename": "AttributeError",
     "evalue": "ResultSet object has no attribute 'text'. You're probably treating a list of elements like a single element. Did you call find_all() when you meant to call find()?",
     "traceback": [
      "\u001b[1;31m---------------------------------------------------------------------------\u001b[0m",
      "\u001b[1;31mAttributeError\u001b[0m                            Traceback (most recent call last)",
      "\u001b[1;32m<ipython-input-7-f31c95bbd60a>\u001b[0m in \u001b[0;36m<module>\u001b[1;34m\u001b[0m\n\u001b[1;32m----> 1\u001b[1;33m \u001b[0msoup\u001b[0m\u001b[1;33m.\u001b[0m\u001b[0mfind_all\u001b[0m\u001b[1;33m(\u001b[0m\u001b[1;34m'i'\u001b[0m\u001b[1;33m)\u001b[0m\u001b[1;33m.\u001b[0m\u001b[0mtext\u001b[0m\u001b[1;33m\u001b[0m\u001b[1;33m\u001b[0m\u001b[0m\n\u001b[0m",
      "\u001b[1;32m~\\Anaconda3\\envs\\deeplearn\\lib\\site-packages\\bs4\\element.py\u001b[0m in \u001b[0;36m__getattr__\u001b[1;34m(self, key)\u001b[0m\n\u001b[0;32m   2172\u001b[0m         \u001b[1;34m\"\"\"Raise a helpful exception to explain a common code fix.\"\"\"\u001b[0m\u001b[1;33m\u001b[0m\u001b[1;33m\u001b[0m\u001b[0m\n\u001b[0;32m   2173\u001b[0m         raise AttributeError(\n\u001b[1;32m-> 2174\u001b[1;33m             \u001b[1;34m\"ResultSet object has no attribute '%s'. You're probably treating a list of elements like a single element. Did you call find_all() when you meant to call find()?\"\u001b[0m \u001b[1;33m%\u001b[0m \u001b[0mkey\u001b[0m\u001b[1;33m\u001b[0m\u001b[1;33m\u001b[0m\u001b[0m\n\u001b[0m\u001b[0;32m   2175\u001b[0m         )\n",
      "\u001b[1;31mAttributeError\u001b[0m: ResultSet object has no attribute 'text'. You're probably treating a list of elements like a single element. Did you call find_all() when you meant to call find()?"
     ]
    }
   ],
   "metadata": {}
  }
 ],
 "metadata": {
  "kernelspec": {
   "name": "python3",
   "display_name": "Python 3.6.13 64-bit ('deeplearn': conda)"
  },
  "language_info": {
   "codemirror_mode": {
    "name": "ipython",
    "version": 3
   },
   "file_extension": ".py",
   "mimetype": "text/x-python",
   "name": "python",
   "nbconvert_exporter": "python",
   "pygments_lexer": "ipython3",
   "version": "3.6.13"
  },
  "interpreter": {
   "hash": "e015e1639836c9a49ee3586496c0fb007565c7f3a4b1a4b2dfc2182147d167c4"
  }
 },
 "nbformat": 4,
 "nbformat_minor": 5
}